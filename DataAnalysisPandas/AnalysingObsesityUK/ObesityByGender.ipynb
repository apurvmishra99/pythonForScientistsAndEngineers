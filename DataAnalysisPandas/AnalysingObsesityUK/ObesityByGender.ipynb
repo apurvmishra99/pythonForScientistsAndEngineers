{
 "cells": [
  {
   "cell_type": "code",
   "execution_count": 2,
   "metadata": {},
   "outputs": [
    {
     "name": "stdout",
     "output_type": "stream",
     "text": [
      "--2018-07-22 16:09:57--  http://webarchive.nationalarchives.gov.uk/20180104154055/http://digital.nhs.uk/media/30782/Statistics-on-Obesity-Physical-Activity-and-Diet-England-2017-Data-tables/Any/obes-phys-acti-diet-eng-2017-tab\n",
      "Resolving webarchive.nationalarchives.gov.uk (webarchive.nationalarchives.gov.uk)... 2600:9000:203e:1c00:13:99fd:5c80:21, 2600:9000:203e:f000:13:99fd:5c80:21, 2600:9000:203e:c400:13:99fd:5c80:21, ...\n",
      "Connecting to webarchive.nationalarchives.gov.uk (webarchive.nationalarchives.gov.uk)|2600:9000:203e:1c00:13:99fd:5c80:21|:80... connected.\n",
      "HTTP request sent, awaiting response... 302 Moved Temporarily\n",
      "Location: http://webarchive.nationalarchives.gov.uk/20171103145759/http://digital.nhs.uk/media/30782/Statistics-on-Obesity-Physical-Activity-and-Diet-England-2017-Data-tables/Any/obes-phys-acti-diet-eng-2017-tab [following]\n",
      "--2018-07-22 16:09:58--  http://webarchive.nationalarchives.gov.uk/20171103145759/http://digital.nhs.uk/media/30782/Statistics-on-Obesity-Physical-Activity-and-Diet-England-2017-Data-tables/Any/obes-phys-acti-diet-eng-2017-tab\n",
      "Reusing existing connection to [webarchive.nationalarchives.gov.uk]:80.\n",
      "HTTP request sent, awaiting response... 200 OK\n",
      "Length: 265639 (259K) [application/vnd.openxmlformats-officedocument.spreadsheetml.sheet]\n",
      "Saving to: ‘obes-phys-acti-diet-eng-2017-tab.1’\n",
      "\n",
      "obes-phys-acti-diet 100%[===================>] 259.41K   255KB/s    in 1.0s    \n",
      "\n",
      "2018-07-22 16:09:59 (255 KB/s) - ‘obes-phys-acti-diet-eng-2017-tab.1’ saved [265639/265639]\n",
      "\n"
     ]
    }
   ],
   "source": [
    "#Getting the dataset\n",
    "!wget webarchive.nationalarchives.gov.uk/20180104154055/http://digital.nhs.uk/media/30782/Statistics-on-Obesity-Physical-Activity-and-Diet-England-2017-Data-tables/Any/obes-phys-acti-diet-eng-2017-tab"
   ]
  },
  {
   "cell_type": "code",
   "execution_count": 3,
   "metadata": {},
   "outputs": [],
   "source": [
    "%matplotlib inline\n",
    "import os\n",
    "import matplotlib.pyplot as plt\n",
    "import pandas as pd"
   ]
  },
  {
   "cell_type": "code",
   "execution_count": 4,
   "metadata": {},
   "outputs": [],
   "source": [
    "os.rename('obes-phys-acti-diet-eng-2017-tab','obesity.xls')"
   ]
  },
  {
   "cell_type": "code",
   "execution_count": 5,
   "metadata": {},
   "outputs": [],
   "source": [
    "data = pd.ExcelFile('obesity.xls')"
   ]
  },
  {
   "cell_type": "code",
   "execution_count": 6,
   "metadata": {},
   "outputs": [
    {
     "name": "stdout",
     "output_type": "stream",
     "text": [
      "['Contents', 'Table 1', 'Table 2', 'Table 3', 'Table 4', 'Table 5', 'Table 6', 'Table 7', 'Table 8', 'Table 9', 'Table 10', 'Table 11', 'Table 12', 'Table 13', 'Table 14']\n"
     ]
    }
   ],
   "source": [
    "print(data.sheet_names)"
   ]
  },
  {
   "cell_type": "code",
   "execution_count": 29,
   "metadata": {},
   "outputs": [],
   "source": [
    "#Obesity by gender\n",
    "columns1 = ['Year','Null','Total', 'Males', 'Females']"
   ]
  },
  {
   "cell_type": "code",
   "execution_count": 30,
   "metadata": {},
   "outputs": [],
   "source": [
    "data_gender = data.parse('Table 5', skiprows = 7, skip_footer=17, names = columns1)"
   ]
  },
  {
   "cell_type": "code",
   "execution_count": 31,
   "metadata": {},
   "outputs": [
    {
     "name": "stdout",
     "output_type": "stream",
     "text": [
      "       Year  Null     Total     Males   Females\n",
      "0       NaN   NaN       NaN       NaN       NaN\n",
      "1   2005/06   NaN   52019.0   21432.0   30552.0\n",
      "2   2006/07   NaN   67211.0   27791.0   39411.0\n",
      "3   2007/08   NaN   80914.0   32080.0   48829.0\n",
      "4   2008/09   NaN  102987.0   39524.0   63457.0\n",
      "5   2009/10   NaN  142219.0   52517.0   89657.0\n",
      "6   2010/11   NaN  211783.0   75190.0  136566.0\n",
      "7   2011/12   NaN  266666.0   92828.0  173803.0\n",
      "8   2012/13   NaN  292404.0   99579.0  192795.0\n",
      "9   2013/14   NaN  365577.0  123423.0  242118.0\n",
      "10  2014/15   NaN  440288.0  149490.0  290747.0\n",
      "11  2015/16   NaN  524725.0  175401.0  349279.0\n"
     ]
    }
   ],
   "source": [
    "print(data_gender)"
   ]
  },
  {
   "cell_type": "code",
   "execution_count": 32,
   "metadata": {},
   "outputs": [],
   "source": [
    "del data_gender['Null']\n",
    "data_gender.dropna(inplace = True)\n",
    "data_gender.set_index('Year', inplace = True)"
   ]
  },
  {
   "cell_type": "code",
   "execution_count": 48,
   "metadata": {},
   "outputs": [
    {
     "name": "stdout",
     "output_type": "stream",
     "text": [
      "            Total     Males   Females\n",
      "Year                                 \n",
      "2005/06   52019.0   21432.0   30552.0\n",
      "2006/07   67211.0   27791.0   39411.0\n",
      "2007/08   80914.0   32080.0   48829.0\n",
      "2008/09  102987.0   39524.0   63457.0\n",
      "2009/10  142219.0   52517.0   89657.0\n",
      "2010/11  211783.0   75190.0  136566.0\n",
      "2011/12  266666.0   92828.0  173803.0\n",
      "2012/13  292404.0   99579.0  192795.0\n",
      "2013/14  365577.0  123423.0  242118.0\n",
      "2014/15  440288.0  149490.0  290747.0\n",
      "2015/16  524725.0  175401.0  349279.0\n"
     ]
    }
   ],
   "source": [
    "print(data_gender)"
   ]
  },
  {
   "cell_type": "code",
   "execution_count": 49,
   "metadata": {},
   "outputs": [
    {
     "data": {
      "image/png": "[encoded data removed]",
      "text/plain": [
       "<matplotlib.figure.Figure at 0xad9047ec>"
      ]
     },
     "metadata": {},
     "output_type": "display_data"
    }
   ],
   "source": [
    "data_gender.plot()\n",
    "plt.show()"
   ]
  },
  {
   "cell_type": "code",
   "execution_count": 50,
   "metadata": {},
   "outputs": [],
   "source": [
    "#Can infer there has been a sharp increase of obesity in women."
   ]
  }
 ],
 "metadata": {
  "kernelspec": {
   "display_name": "Python 3",
   "language": "python",
   "name": "python3"
  },
  "language_info": {
   "codemirror_mode": {
    "name": "ipython",
    "version": 3
   },
   "file_extension": ".py",
   "mimetype": "text/x-python",
   "name": "python",
   "nbconvert_exporter": "python",
   "pygments_lexer": "ipython3",
   "version": "3.6.4"
  }
 },
 "nbformat": 4,
 "nbformat_minor": 2
}
